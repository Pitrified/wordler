{
 "cells": [
  {
   "cell_type": "markdown",
   "metadata": {},
   "source": [
    "# Samples and tests\n"
   ]
  },
  {
   "cell_type": "markdown",
   "metadata": {},
   "source": [
    "### Import\n"
   ]
  },
  {
   "cell_type": "code",
   "execution_count": null,
   "metadata": {},
   "outputs": [],
   "source": [
    "%load_ext autoreload\n",
    "%autoreload 2"
   ]
  },
  {
   "cell_type": "code",
   "execution_count": null,
   "metadata": {},
   "outputs": [],
   "source": [
    "import numpy as np\n",
    "\n",
    "np.set_printoptions(linewidth=180)"
   ]
  },
  {
   "cell_type": "code",
   "execution_count": null,
   "metadata": {},
   "outputs": [],
   "source": [
    "from wordler.const import DATA_FOL, SOLUTION_FP\n",
    "from wordler.data import build_word_ids, build_word_vecs, build_word_yel, load_word_list\n",
    "\n",
    "sol_word_list = load_word_list(SOLUTION_FP)[:50000]\n",
    "sol_word_ids = build_word_ids(sol_word_list)\n",
    "sol_word_vecs = build_word_vecs(sol_word_list)\n",
    "sol_word_yel = build_word_yel(sol_word_vecs)"
   ]
  },
  {
   "cell_type": "code",
   "execution_count": null,
   "metadata": {},
   "outputs": [],
   "source": [
    "from wordler.constraint import ConstraintBank\n",
    "from wordler.solver import Solver\n",
    "\n",
    "wd = [sol_word_vecs, sol_word_yel, sol_word_list]\n",
    "\n",
    "\n",
    "s = Solver()\n",
    "\n",
    "cb = ConstraintBank.from_str(\"abide\", \"BBYBY\")\n",
    "s.apply_constraint_bank(cb)\n",
    "s.print_options()\n",
    "s.print_yellows()\n",
    "print(s.filter_words(*wd))\n",
    "\n",
    "cb = ConstraintBank.from_str(\"coven\", \"BBYGB\")\n",
    "s.apply_constraint_bank(cb)\n",
    "s.print_options()\n",
    "print(s.filter_words(*wd))\n",
    "\n",
    "cb = ConstraintBank.from_str(\"flyer\", \"BBBGG\")\n",
    "s.apply_constraint_bank(cb)\n",
    "s.print_options()\n",
    "print(s.filter_words(*wd))"
   ]
  },
  {
   "cell_type": "code",
   "execution_count": null,
   "metadata": {},
   "outputs": [],
   "source": [
    "from copy import deepcopy\n",
    "\n",
    "\n",
    "s = Solver()\n",
    "sc = deepcopy(s)\n",
    "cb = ConstraintBank.from_str(\"abide\", \"BBYBY\")\n",
    "s.apply_constraint_bank(cb)\n",
    "sc.print_options()"
   ]
  },
  {
   "cell_type": "code",
   "execution_count": null,
   "metadata": {},
   "outputs": [],
   "source": [
    "len(sol_word_list)"
   ]
  },
  {
   "cell_type": "code",
   "execution_count": null,
   "metadata": {},
   "outputs": [],
   "source": [
    "from time import perf_counter, perf_counter_ns\n",
    "\n",
    "\n",
    "perf_counter(), perf_counter_ns()"
   ]
  },
  {
   "cell_type": "code",
   "execution_count": null,
   "metadata": {},
   "outputs": [],
   "source": [
    "from wordler.optimize import sort_word_list\n",
    "\n",
    "\n",
    "s = Solver()\n",
    "cb = ConstraintBank.from_str(\"abide\", \"YBBBY\")\n",
    "s.apply_constraint_bank(cb)\n",
    "s.print_options()\n",
    "\n",
    "wlf = s.filter_words(*wd)\n",
    "\n",
    "wls, perf = sort_word_list(s, *wd, wlf)"
   ]
  },
  {
   "cell_type": "code",
   "execution_count": null,
   "metadata": {},
   "outputs": [],
   "source": [
    "wls[:10], wls[-10:]"
   ]
  },
  {
   "cell_type": "code",
   "execution_count": null,
   "metadata": {},
   "outputs": [],
   "source": [
    "# count the number of unique letters in each word\n",
    "wll = [len(set(w)) for w in wlf]\n",
    "wlfl = zip(wlf, wll)\n",
    "wlfl = sorted(wlfl, key=lambda x: x[1], reverse=True)\n",
    "wlfl[:10], wlfl[-10:]"
   ]
  },
  {
   "cell_type": "code",
   "execution_count": null,
   "metadata": {},
   "outputs": [],
   "source": [
    "perf.head()"
   ]
  },
  {
   "cell_type": "code",
   "execution_count": null,
   "metadata": {},
   "outputs": [],
   "source": [
    "# perf[\"word\"].value_counts()\n",
    "perf[\"cbs\"].value_counts()"
   ]
  },
  {
   "cell_type": "code",
   "execution_count": null,
   "metadata": {},
   "outputs": [],
   "source": [
    "# describe the numeric columns\n",
    "# perf.describe()\n",
    "perf[perf[\"new_wl\"] > 1].describe()"
   ]
  },
  {
   "cell_type": "code",
   "execution_count": null,
   "metadata": {},
   "outputs": [],
   "source": [
    "phigh = perf[perf[\"new_wl\"] > 1].copy()\n",
    "mean_wl = phigh.groupby(\"word\")[\"new_wl\"].mean()\n",
    "mean_wl.sort_values(ascending=False)"
   ]
  },
  {
   "cell_type": "code",
   "execution_count": null,
   "metadata": {},
   "outputs": [],
   "source": [
    "# let_pos_bit = np.logical_and(word_vecs, self.options)\n",
    "# let_pos_sum = let_pos_bit.sum(axis=(1, 2))\n",
    "# let_val_bit = let_pos_sum == 5\n",
    "# yel_cnt_bit = self.yellows <= word_yel\n",
    "# yel_cnt_sum = yel_cnt_bit.sum(axis=1)\n",
    "# yel_val_bit = yel_cnt_sum == 26\n",
    "# fin_val_bit = np.logical_and(let_val_bit, yel_val_bit)\n",
    "# fin_val_ids = np.where(fin_val_bit)[0]\n",
    "# fin_val_words = [word_list[i] for i in fin_val_ids]\n",
    "# return fin_val_words"
   ]
  }
 ],
 "metadata": {
  "kernelspec": {
   "display_name": "wordler-GXUcRIhX-py3.12",
   "language": "python",
   "name": "python3"
  },
  "language_info": {
   "codemirror_mode": {
    "name": "ipython",
    "version": 3
   },
   "file_extension": ".py",
   "mimetype": "text/x-python",
   "name": "python",
   "nbconvert_exporter": "python",
   "pygments_lexer": "ipython3",
   "version": "3.11.7"
  }
 },
 "nbformat": 4,
 "nbformat_minor": 2
}
